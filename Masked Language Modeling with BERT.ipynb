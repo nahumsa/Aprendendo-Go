{
  "nbformat": 4,
  "nbformat_minor": 0,
  "metadata": {
    "colab": {
      "name": "Masked Language Modeling with BERT.ipynb",
      "provenance": [],
      "collapsed_sections": [],
      "authorship_tag": "ABX9TyNPzyKQWUx5oqX+5pBZHrxt",
      "include_colab_link": true
    },
    "kernelspec": {
      "name": "python3",
      "display_name": "Python 3"
    },
    "language_info": {
      "name": "python"
    },
    "accelerator": "GPU"
  },
  "cells": [
    {
      "cell_type": "markdown",
      "metadata": {
        "id": "view-in-github",
        "colab_type": "text"
      },
      "source": [
        "<a href=\"https://colab.research.google.com/github/nahumsa/Aprendendo-Go/blob/master/Masked%20Language%20Modeling%20with%20BERT.ipynb\" target=\"_parent\"><img src=\"https://colab.research.google.com/assets/colab-badge.svg\" alt=\"Open In Colab\"/></a>"
      ]
    },
    {
      "cell_type": "markdown",
      "metadata": {
        "id": "q6lattZWt8Xs"
      },
      "source": [
        "# End-to-End Masked Language modeling with BERT\n",
        "\n",
        "[source](https://keras.io/examples/nlp/masked_language_modeling/) [additional reference](https://towardsdatascience.com/transformers-explained-visually-part-2-how-it-works-step-by-step-b49fa4a64f34)\n",
        "\n",
        "A masked language modeling fills a blank on a given text, just like a auto-completer. For example:\n",
        "\n",
        "- Input: \"I would [MASK] to eat.\"\n",
        "- Output: \"I would like to eat.\"\n",
        "\n",
        "Masked language modeling are a good way to train a language model in a self-supervised setting, and then fine-tuned to acomplish supervised NLP tasks."
      ]
    },
    {
      "cell_type": "code",
      "metadata": {
        "id": "-NmYgZF0vx1A"
      },
      "source": [
        "import pandas as pd\n",
        "import numpy as np\n",
        "import glob\n",
        "import re\n",
        "import tensorflow as tf\n",
        "from tensorflow import keras\n",
        "from tensorflow.keras import layers\n",
        "from tensorflow.keras.layers.experimental.preprocessing import TextVectorization\n",
        "from dataclasses import dataclass"
      ],
      "execution_count": 1,
      "outputs": []
    },
    {
      "cell_type": "markdown",
      "metadata": {
        "id": "8WTLXcimwnuZ"
      },
      "source": [
        "# Configuration"
      ]
    },
    {
      "cell_type": "code",
      "metadata": {
        "id": "8L9HnCx5wTsr"
      },
      "source": [
        "@dataclass\n",
        "class Config:\n",
        "    MAX_LEN = 256\n",
        "    BATCH_SIZE = 32\n",
        "    LR = 0.001\n",
        "    VOCAB_SIZE = 30_000\n",
        "    EMBED_DIM = 128\n",
        "    NUM_HEAD = 8 \n",
        "    FF_DIM = 128\n",
        "    NUM_LAYERS = 1\n",
        "\n",
        "config = Config()"
      ],
      "execution_count": 2,
      "outputs": []
    },
    {
      "cell_type": "markdown",
      "metadata": {
        "id": "C8hJo6hzwrWL"
      },
      "source": [
        "# Loading the data"
      ]
    },
    {
      "cell_type": "code",
      "metadata": {
        "colab": {
          "base_uri": "https://localhost:8080/"
        },
        "id": "Nm1UbGRUwtUX",
        "outputId": "93cea61c-e21c-4f72-c5d2-0ba660493393"
      },
      "source": [
        "!curl -O https://ai.stanford.edu/~amaas/data/sentiment/aclImdb_v1.tar.gz\n",
        "!tar -xf aclImdb_v1.tar.gz"
      ],
      "execution_count": 3,
      "outputs": [
        {
          "output_type": "stream",
          "text": [
            "  % Total    % Received % Xferd  Average Speed   Time    Time     Time  Current\n",
            "                                 Dload  Upload   Total   Spent    Left  Speed\n",
            "100 80.2M  100 80.2M    0     0  13.7M      0  0:00:05  0:00:05 --:--:-- 19.6M\n"
          ],
          "name": "stdout"
        }
      ]
    },
    {
      "cell_type": "code",
      "metadata": {
        "id": "mGC-c1LUwv8a"
      },
      "source": [
        "def get_text_list_from_files(files):\n",
        "    text_list = []\n",
        "    for name in files:\n",
        "        with open(name) as f:\n",
        "            for line in f:\n",
        "                text_list.append(line)\n",
        "    return text_list\n",
        "\n",
        "def get_data_from_text_files(folder_name):\n",
        "    pos_files = glob.glob(\"aclImdb/\" + folder_name + \"/pos/*.txt\")\n",
        "    pos_texts = get_text_list_from_files(pos_files)\n",
        "    \n",
        "    neg_files = glob.glob(\"aclImdb/\" + folder_name + \"/neg/*.txt\")\n",
        "    neg_texts = get_text_list_from_files(neg_files)\n",
        "    \n",
        "    df = pd.DataFrame(\n",
        "        {\n",
        "            \"review\": pos_texts + neg_texts,\n",
        "            \"sentiment\": [0] * len(pos_texts) + [1] * len(neg_texts),\n",
        "        }\n",
        "    )\n",
        "    df = df.sample(len(df)).reset_index(drop=True)\n",
        "    return df\n",
        "\n",
        "train_df = get_data_from_text_files(\"train\")\n",
        "test_df = get_data_from_text_files(\"test\")\n",
        "\n",
        "all_data = train_df.append(test_df)"
      ],
      "execution_count": 4,
      "outputs": []
    },
    {
      "cell_type": "markdown",
      "metadata": {
        "id": "NJGvrpxEyYpJ"
      },
      "source": [
        "# Preparing the data\n",
        "\n",
        "We will use `TextVectorization` to vectorize the text into integer token ids."
      ]
    },
    {
      "cell_type": "code",
      "metadata": {
        "colab": {
          "base_uri": "https://localhost:8080/"
        },
        "id": "7AY3fQWWzBIy",
        "outputId": "59cca772-7628-44f0-e672-bae6c30d36c4"
      },
      "source": [
        "def custom_standardization(input_data):\n",
        "    lowercase = tf.strings.lower(input_data)\n",
        "    stripped_html = tf.strings.regex_replace(lowercase, \"<br />\", \" \")\n",
        "    return tf.strings.regex_replace(\n",
        "        stripped_html, \"[%s]\" % re.escape(\"!#$%&'()*+,-./:;<=>?@\\^_`{|}~\"), \"\"\n",
        "    )\n",
        "\n",
        "def get_vectorize_layer(texts, vocab_size, max_seq, special_tokens=[\"[MASK]\"]):\n",
        "    \"\"\" Build text vectorization layer\n",
        "\n",
        "    Args:\n",
        "        texts (list): List of string i.e. input texts.\n",
        "        vocab_size (int): vocabulary size\n",
        "        max_seq (int): Maximum sequence lenght.\n",
        "        special_tokens (list, optional): List of special tokens.\n",
        "        Default = [\"[MASK]\"]\n",
        "    \n",
        "    Returns:\n",
        "        layers.Layer: Return TextVectorization Keras Layer\n",
        "    \"\"\"\n",
        "    vectorize_layer = TextVectorization(\n",
        "        max_tokens=vocab_size,\n",
        "        output_mode=\"int\",\n",
        "        standardize=custom_standardization,\n",
        "        output_sequence_length=max_seq,\n",
        "    )\n",
        "\n",
        "    vectorize_layer.adapt(texts)\n",
        "\n",
        "    # Insert mask token in vocabulary\n",
        "    vocab = vectorize_layer.get_vocabulary()\n",
        "    vocab = vocab[2 : vocab_size - len(special_tokens)] + [\"[mask]\"] # maybe special_tokens\n",
        "    vectorize_layer.set_vocabulary(vocab)\n",
        "    return vectorize_layer\n",
        "\n",
        "vectorize_layer = get_vectorize_layer(\n",
        "    all_data.review.values.tolist(),\n",
        "    config.VOCAB_SIZE,\n",
        "    config.MAX_LEN,\n",
        "    special_tokens=[\"[mask]\"],\n",
        ")\n",
        "\n",
        "#get mask token id\n",
        "mask_token_id = vectorize_layer([\"[mask]\"]).numpy()[0][0]\n",
        "print(\"Mask token:\", mask_token_id)"
      ],
      "execution_count": 5,
      "outputs": [
        {
          "output_type": "stream",
          "text": [
            "Mask token: 29999\n"
          ],
          "name": "stdout"
        }
      ]
    },
    {
      "cell_type": "code",
      "metadata": {
        "id": "SBu2SCtL1X-s"
      },
      "source": [
        "def encode(texts) -> np.array:\n",
        "    \"\"\" Encode texts using the vectorize_layer.\n",
        "\n",
        "    \"\"\"\n",
        "    encoded_texts = vectorize_layer(texts)\n",
        "    return encoded_texts.numpy()\n",
        "\n",
        "def get_masked_input_and_labels(encoded_texts):\n",
        "\n",
        "    # 15% BERT masking\n",
        "    inp_mask = np.random.rand(*encoded_texts.shape) < 0.15\n",
        "    # Do not mask special tokens\n",
        "    inp_mask[encoded_texts <= 2] = False\n",
        "    # Set targets to -1 by default, it means ignore\n",
        "    labels = -1 * np.ones(encoded_texts.shape, dtype=int)\n",
        "    # Set labels for masked tokens\n",
        "    labels[inp_mask] = encoded_texts[inp_mask]\n",
        "\n",
        "    # Prepare input\n",
        "    encoded_texts_masked = np.copy(encoded_texts)\n",
        "    # Set input to [mask] which is the last token of the 90% of tokens\n",
        "    inp_mask_2mask = inp_mask & (np.random.rand(*encoded_texts.shape) < 0.9)\n",
        "    encoded_texts_masked [ inp_mask_2mask ] = mask_token_id \n",
        "    # mask token is the last in the dict\n",
        "\n",
        "    # Set 10% to a random token\n",
        "    inp_mask_2random = inp_mask_2mask & (\n",
        "        np.random.rand(*encoded_texts.shape) < 1 / 9)\n",
        "    encoded_texts_masked[inp_mask_2random] = np.random.randint(\n",
        "        3, mask_token_id, inp_mask_2random.sum()\n",
        "    )\n",
        "\n",
        "    # Prepare sample_weights to pass to a .fit() method\n",
        "    sample_weights = np.ones(labels.shape)\n",
        "    sample_weights[labels == -1] = 0\n",
        "\n",
        "    # y_labels would be same as encoded_texts\n",
        "    y_labels = np.copy(encoded_texts)\n",
        "\n",
        "    return encoded_texts_masked, y_labels, sample_weights\n",
        "\n",
        "# 2500 training examples\n",
        "x_train = encode(train_df.review.values)\n",
        "y_train = train_df.sentiment.values\n",
        "train_classifier_ds = (\n",
        "    tf.data.Dataset.from_tensor_slices((x_train, y_train))\n",
        "    .shuffle(1000)\n",
        "    .batch(config.BATCH_SIZE)\n",
        ")\n",
        "\n",
        "# 2500 testing examples\n",
        "x_test = encode(test_df.review.values)\n",
        "y_test = test_df.sentiment.values\n",
        "test_classifier_ds = tf.data.Dataset.from_tensor_slices((x_test, y_test)).batch(\n",
        "    config.BATCH_SIZE\n",
        ")\n",
        "\n",
        "\n",
        "# Build dataset for end-to-end model\n",
        "test_raw_classifier_ds = tf.data.Dataset.from_tensor_slices(\n",
        "    (test_df.review.values, y_test)\n",
        ").batch(config.BATCH_SIZE)\n",
        "\n",
        "# Prepare data for masked language model\n",
        "x_all_review = encode(all_data.review.values)\n",
        "x_masked_train, y_masked_labels, sample_weights = get_masked_input_and_labels(\n",
        "    x_all_review\n",
        ")\n",
        "\n",
        "mlm_ds = tf.data.Dataset.from_tensor_slices(\n",
        "    (x_masked_train, y_masked_labels, sample_weights)\n",
        ")\n",
        "\n",
        "mlm_ds = mlm_ds.shuffle(1000).batch(config.BATCH_SIZE)"
      ],
      "execution_count": 6,
      "outputs": []
    },
    {
      "cell_type": "markdown",
      "metadata": {
        "id": "Frsbf_wQA_5k"
      },
      "source": [
        "# Create BERT model"
      ]
    },
    {
      "cell_type": "code",
      "metadata": {
        "id": "4GSYqqbGBt7G"
      },
      "source": [
        "def bert_module(query, key, value, i):\n",
        "    # Multi headed self-attention\n",
        "    attention_output = layers.MultiHeadAttention(\n",
        "        num_heads=config.NUM_HEAD,\n",
        "        key_dim=config.EMBED_DIM // config.NUM_HEAD,\n",
        "        name=f\"encoder_{i}/multiheadattention\"\n",
        "    )(query, key, value)\n",
        "\n",
        "    attention_output = layers.Dropout(0.1,\n",
        "                                      name=f\"encoder_{i}/att_dropout\")(\n",
        "        attention_output\n",
        "    )\n",
        "    attention_output = layers.LayerNormalization(\n",
        "        epsilon=1e-6, name=f\"encoder_{i}/att_layernormalization\"\n",
        "    )( query + attention_output)\n",
        "\n",
        "    # Feed-forward layer\n",
        "    ffn = keras.Sequential(\n",
        "        [\n",
        "         layers.Dense(config.FF_DIM, activation='relu'),\n",
        "         layers.Dense(config.EMBED_DIM),\n",
        "        ],\n",
        "        name=f\"encoder_{i}/ffn\",\n",
        "    )\n",
        "    ffn_output = ffn(attention_output)\n",
        "    ffn_output = layers.Dropout(0.1, name=f\"encoder_{i}/ffn_dropout\")(\n",
        "        ffn_output\n",
        "    )\n",
        "    sequence_output = layers.LayerNormalization(\n",
        "        epsilon=1e-6, name=f\"encoder_{i}/ffn_layernormalization\"\n",
        "    )(attention_output + ffn_output)\n",
        "    return sequence_output\n",
        "\n",
        "def get_pos_encoding_matrix(max_len, d_emb):\n",
        "    \"\"\" Positional encoding matrix for the transformer model\n",
        "    \"\"\"\n",
        "    pos_enc = np.array(\n",
        "        [\n",
        "         [pos / np.power(10_000, 2 * (j // 2) / d_emb) for j in range(d_emb)]\n",
        "         if pos != 0\n",
        "         else np.zeros(d_emb)\n",
        "         for pos in range(max_len)\n",
        "        ]\n",
        "    )\n",
        "    pos_enc[1:, 0::2] = np.sin(pos_enc[1:, 0::2])\n",
        "    pos_enc[1:, 1::2] = np.cos(pos_enc[1:, 1::2])\n",
        "    return pos_enc\n",
        "\n",
        "loss_fn = keras.losses.SparseCategoricalCrossentropy(\n",
        "    reduction=tf.keras.losses.Reduction.NONE,\n",
        ")\n",
        "loss_tracker = tf.keras.metrics.Mean(name=\"loss\")"
      ],
      "execution_count": 7,
      "outputs": []
    },
    {
      "cell_type": "code",
      "metadata": {
        "id": "soTgi7kaEsEh"
      },
      "source": [
        "class MaskedLanguageModel(tf.keras.Model):\n",
        "    def train_step(self, inputs):\n",
        "        if len(inputs) == 3:\n",
        "            features, labels, sample_weight = inputs\n",
        "        else:\n",
        "            feature, labels = inputs\n",
        "            sample_weight = None\n",
        "        \n",
        "        with tf.GradientTape() as tape:\n",
        "            predictions = self(features, training=True)\n",
        "            loss = loss_fn(labels, predictions, sample_weight=sample_weight)\n",
        "        \n",
        "        # Compute gradients\n",
        "        trainable_vars = self.trainable_variables\n",
        "        gradients = tape.gradient(loss, trainable_vars)\n",
        "\n",
        "        # Update weight\n",
        "        self.optimizer.apply_gradients(zip(gradients, trainable_vars))\n",
        "\n",
        "        # Compute metrics\n",
        "        loss_tracker.update_state(loss, sample_weight=sample_weight)\n",
        "\n",
        "        # return a dict mapping metric\n",
        "        return {\"loss\": loss_tracker.result()}\n",
        "    @property\n",
        "    def metrics(self):\n",
        "        # We list our `Metric` objects here so that `reset_states()` can be\n",
        "        # called automatically at the start of each epoch\n",
        "        # or at the start of `evaluate()`.\n",
        "        # If you don't implement this property, you have to call\n",
        "        # `reset_states()` yourself at the time of your choosing.\n",
        "        return [loss_tracker]\n"
      ],
      "execution_count": 8,
      "outputs": []
    },
    {
      "cell_type": "code",
      "metadata": {
        "colab": {
          "base_uri": "https://localhost:8080/"
        },
        "id": "m7tqwXdEIkNX",
        "outputId": "aba7b1f2-7fc9-4abd-9867-904d9d7bc955"
      },
      "source": [
        "def create_masked_language_bert_model():\n",
        "    inputs = layers.Input((config.MAX_LEN,), dtype=tf.int64)\n",
        "\n",
        "    word_embeddings = layers.Embedding(\n",
        "        config.VOCAB_SIZE, config.EMBED_DIM, name=\"word_embedding\"\n",
        "    )(inputs)\n",
        "    position_embeddings = layers.Embedding(\n",
        "        input_dim=config.MAX_LEN,\n",
        "        output_dim=config.EMBED_DIM,\n",
        "        weights=[get_pos_encoding_matrix(config.MAX_LEN, config.EMBED_DIM)],\n",
        "        name=\"position embedding\",\n",
        "    )( tf.range(start=0, limit=config.MAX_LEN, delta=1))\n",
        "    \n",
        "    embeddings = word_embeddings + position_embeddings\n",
        "\n",
        "    encoder_output = embeddings\n",
        "\n",
        "    for i in range(config.NUM_LAYERS):\n",
        "        encoder_output = bert_module(encoder_output,\n",
        "                                     encoder_output,\n",
        "                                     encoder_output,\n",
        "                                     i)\n",
        "    \n",
        "    mlm_output = layers.Dense(config.VOCAB_SIZE,\n",
        "                              name=\"mlm_cls\",\n",
        "                              activation=\"softmax\")(encoder_output)\n",
        "    mlm_model = MaskedLanguageModel(inputs,\n",
        "                                    mlm_output,\n",
        "                                    name=\"masked_bert_model\")\n",
        "    \n",
        "    optimizer = keras.optimizers.Adam(learning_rate=config.LR)\n",
        "    mlm_model.compile(optimizer=optimizer)\n",
        "    return mlm_model\n",
        "\n",
        "id2token = dict(enumerate(vectorize_layer.get_vocabulary()))\n",
        "token2id = {y: x for x,y in id2token.items()}\n",
        "\n",
        "class MaskedTextGenerator(keras.callbacks.Callback):\n",
        "    def __init__(self, sample_tokens, top_k=5):\n",
        "        self.sample_tokens = sample_tokens\n",
        "        self.k = top_k\n",
        "    \n",
        "    def decode(self, tokens):\n",
        "        return \" \".join([id2token[t] for t in tokens if t != 0])\n",
        "    \n",
        "    def convert_ids_to_tokens(self, id):\n",
        "        return id2token[id]\n",
        "    \n",
        "    def on_epoch_end(self, epoch, logs=None):\n",
        "        prediction = self.model.predict(self.sample_tokens)\n",
        "\n",
        "        masked_index = np.where(self.sample_tokens == mask_token_id)\n",
        "        masked_index = masked_index[1]\n",
        "        mask_prediction = prediction[0][masked_index]\n",
        "\n",
        "        top_indices = mask_prediction[0].argsort()[- self.k :][::-1]\n",
        "        values = mask_prediction[0][top_indices]\n",
        "\n",
        "        for i in range(len(top_indices)):\n",
        "            p = top_indices[i]\n",
        "            v = values[i]\n",
        "            tokens = np.copy(sample_tokens[0])\n",
        "            tokens[masked_index[0]] = p\n",
        "            result = {\n",
        "                \"input_text\": self.decode(sample_tokens[0].numpy()),\n",
        "                \"prediction\": self.decode(tokens),\n",
        "                \"probability\": v,\n",
        "                \"predicted mask token\": self.convert_ids_to_tokens(p),\n",
        "            }\n",
        "            print(result)\n",
        "\n",
        "sample_tokens = vectorize_layer([\"I have watched this [mask] and it was awesome\"])\n",
        "generator_callback = MaskedTextGenerator(sample_tokens.numpy())\n",
        "\n",
        "bert_masked_model = create_masked_language_bert_model()\n",
        "bert_masked_model.summary()"
      ],
      "execution_count": 9,
      "outputs": [
        {
          "output_type": "stream",
          "text": [
            "Model: \"masked_bert_model\"\n",
            "__________________________________________________________________________________________________\n",
            "Layer (type)                    Output Shape         Param #     Connected to                     \n",
            "==================================================================================================\n",
            "input_1 (InputLayer)            [(None, 256)]        0                                            \n",
            "__________________________________________________________________________________________________\n",
            "word_embedding (Embedding)      (None, 256, 128)     3840000     input_1[0][0]                    \n",
            "__________________________________________________________________________________________________\n",
            "tf.__operators__.add (TFOpLambd (None, 256, 128)     0           word_embedding[0][0]             \n",
            "__________________________________________________________________________________________________\n",
            "encoder_0/multiheadattention (M (None, 256, 128)     66048       tf.__operators__.add[0][0]       \n",
            "                                                                 tf.__operators__.add[0][0]       \n",
            "                                                                 tf.__operators__.add[0][0]       \n",
            "__________________________________________________________________________________________________\n",
            "encoder_0/att_dropout (Dropout) (None, 256, 128)     0           encoder_0/multiheadattention[0][0\n",
            "__________________________________________________________________________________________________\n",
            "tf.__operators__.add_1 (TFOpLam (None, 256, 128)     0           tf.__operators__.add[0][0]       \n",
            "                                                                 encoder_0/att_dropout[0][0]      \n",
            "__________________________________________________________________________________________________\n",
            "encoder_0/att_layernormalizatio (None, 256, 128)     256         tf.__operators__.add_1[0][0]     \n",
            "__________________________________________________________________________________________________\n",
            "encoder_0/ffn (Sequential)      (None, 256, 128)     33024       encoder_0/att_layernormalization[\n",
            "__________________________________________________________________________________________________\n",
            "encoder_0/ffn_dropout (Dropout) (None, 256, 128)     0           encoder_0/ffn[0][0]              \n",
            "__________________________________________________________________________________________________\n",
            "tf.__operators__.add_2 (TFOpLam (None, 256, 128)     0           encoder_0/att_layernormalization[\n",
            "                                                                 encoder_0/ffn_dropout[0][0]      \n",
            "__________________________________________________________________________________________________\n",
            "encoder_0/ffn_layernormalizatio (None, 256, 128)     256         tf.__operators__.add_2[0][0]     \n",
            "__________________________________________________________________________________________________\n",
            "mlm_cls (Dense)                 (None, 256, 30000)   3870000     encoder_0/ffn_layernormalization[\n",
            "==================================================================================================\n",
            "Total params: 7,809,584\n",
            "Trainable params: 7,809,584\n",
            "Non-trainable params: 0\n",
            "__________________________________________________________________________________________________\n"
          ],
          "name": "stdout"
        }
      ]
    },
    {
      "cell_type": "markdown",
      "metadata": {
        "id": "G_NNcroRMg00"
      },
      "source": [
        "# Train and save"
      ]
    },
    {
      "cell_type": "code",
      "metadata": {
        "colab": {
          "base_uri": "https://localhost:8080/"
        },
        "id": "fYcSeYmoMpjY",
        "outputId": "f8699556-8678-45c8-9ede-831dcb0adad6"
      },
      "source": [
        "history = bert_masked_model.fit(mlm_ds,\n",
        "                                epochs=5,\n",
        "                                callbacks=[generator_callback]\n",
        "                                )\n",
        "\n",
        "bert_masked_model.save(\"bert_mlm_imdb.h5\")"
      ],
      "execution_count": 10,
      "outputs": [
        {
          "output_type": "stream",
          "text": [
            "Epoch 1/5\n",
            "1563/1563 [==============================] - 441s 279ms/step - loss: 7.0051\n",
            "{'input_text': 'i have watched this [mask] and it was awesome', 'prediction': 'i have watched this i and it was awesome', 'probability': 0.09980429, 'predicted mask token': 'i'}\n",
            "{'input_text': 'i have watched this [mask] and it was awesome', 'prediction': 'i have watched this this and it was awesome', 'probability': 0.06419232, 'predicted mask token': 'this'}\n",
            "{'input_text': 'i have watched this [mask] and it was awesome', 'prediction': 'i have watched this movie and it was awesome', 'probability': 0.031219937, 'predicted mask token': 'movie'}\n",
            "{'input_text': 'i have watched this [mask] and it was awesome', 'prediction': 'i have watched this it and it was awesome', 'probability': 0.029675052, 'predicted mask token': 'it'}\n",
            "{'input_text': 'i have watched this [mask] and it was awesome', 'prediction': 'i have watched this a and it was awesome', 'probability': 0.029391544, 'predicted mask token': 'a'}\n",
            "Epoch 2/5\n",
            "1563/1563 [==============================] - 438s 280ms/step - loss: 6.4718\n",
            "{'input_text': 'i have watched this [mask] and it was awesome', 'prediction': 'i have watched this movie and it was awesome', 'probability': 0.33389837, 'predicted mask token': 'movie'}\n",
            "{'input_text': 'i have watched this [mask] and it was awesome', 'prediction': 'i have watched this film and it was awesome', 'probability': 0.10199201, 'predicted mask token': 'film'}\n",
            "{'input_text': 'i have watched this [mask] and it was awesome', 'prediction': 'i have watched this is and it was awesome', 'probability': 0.051682822, 'predicted mask token': 'is'}\n",
            "{'input_text': 'i have watched this [mask] and it was awesome', 'prediction': 'i have watched this was and it was awesome', 'probability': 0.027751748, 'predicted mask token': 'was'}\n",
            "{'input_text': 'i have watched this [mask] and it was awesome', 'prediction': 'i have watched this one and it was awesome', 'probability': 0.020882236, 'predicted mask token': 'one'}\n",
            "Epoch 3/5\n",
            "1563/1563 [==============================] - 438s 280ms/step - loss: 5.8970\n",
            "{'input_text': 'i have watched this [mask] and it was awesome', 'prediction': 'i have watched this movie and it was awesome', 'probability': 0.41129306, 'predicted mask token': 'movie'}\n",
            "{'input_text': 'i have watched this [mask] and it was awesome', 'prediction': 'i have watched this film and it was awesome', 'probability': 0.20671648, 'predicted mask token': 'film'}\n",
            "{'input_text': 'i have watched this [mask] and it was awesome', 'prediction': 'i have watched this one and it was awesome', 'probability': 0.055106547, 'predicted mask token': 'one'}\n",
            "{'input_text': 'i have watched this [mask] and it was awesome', 'prediction': 'i have watched this was and it was awesome', 'probability': 0.026383244, 'predicted mask token': 'was'}\n",
            "{'input_text': 'i have watched this [mask] and it was awesome', 'prediction': 'i have watched this is and it was awesome', 'probability': 0.017221741, 'predicted mask token': 'is'}\n",
            "Epoch 4/5\n",
            "1563/1563 [==============================] - 438s 280ms/step - loss: 5.4745\n",
            "{'input_text': 'i have watched this [mask] and it was awesome', 'prediction': 'i have watched this movie and it was awesome', 'probability': 0.38513, 'predicted mask token': 'movie'}\n",
            "{'input_text': 'i have watched this [mask] and it was awesome', 'prediction': 'i have watched this film and it was awesome', 'probability': 0.30110255, 'predicted mask token': 'film'}\n",
            "{'input_text': 'i have watched this [mask] and it was awesome', 'prediction': 'i have watched this one and it was awesome', 'probability': 0.03783274, 'predicted mask token': 'one'}\n",
            "{'input_text': 'i have watched this [mask] and it was awesome', 'prediction': 'i have watched this show and it was awesome', 'probability': 0.025914356, 'predicted mask token': 'show'}\n",
            "{'input_text': 'i have watched this [mask] and it was awesome', 'prediction': 'i have watched this is and it was awesome', 'probability': 0.024921864, 'predicted mask token': 'is'}\n",
            "Epoch 5/5\n",
            "1563/1563 [==============================] - 438s 280ms/step - loss: 5.0060\n",
            "{'input_text': 'i have watched this [mask] and it was awesome', 'prediction': 'i have watched this movie and it was awesome', 'probability': 0.62917876, 'predicted mask token': 'movie'}\n",
            "{'input_text': 'i have watched this [mask] and it was awesome', 'prediction': 'i have watched this film and it was awesome', 'probability': 0.14597537, 'predicted mask token': 'film'}\n",
            "{'input_text': 'i have watched this [mask] and it was awesome', 'prediction': 'i have watched this show and it was awesome', 'probability': 0.0146790715, 'predicted mask token': 'show'}\n",
            "{'input_text': 'i have watched this [mask] and it was awesome', 'prediction': 'i have watched this flick and it was awesome', 'probability': 0.013289377, 'predicted mask token': 'flick'}\n",
            "{'input_text': 'i have watched this [mask] and it was awesome', 'prediction': 'i have watched this time and it was awesome', 'probability': 0.012654223, 'predicted mask token': 'time'}\n"
          ],
          "name": "stdout"
        }
      ]
    },
    {
      "cell_type": "code",
      "metadata": {
        "colab": {
          "base_uri": "https://localhost:8080/",
          "height": 265
        },
        "id": "5f80AmPk-y1C",
        "outputId": "1bde44f7-e831-464c-db46-bb243a937d00"
      },
      "source": [
        "import matplotlib.pyplot as plt\n",
        "\n",
        "train_loss = history.history['loss']\n",
        "\n",
        "epochs = range(len(train_loss))\n",
        "plt.plot(epochs, train_loss, label=\"train\")\n",
        "plt.legend()\n",
        "plt.show()"
      ],
      "execution_count": 11,
      "outputs": [
        {
          "output_type": "display_data",
          "data": {
            "image/png": "[encoded data removed]",
            "text/plain": [
              "<Figure size 432x288 with 1 Axes>"
            ]
          },
          "metadata": {
            "tags": [],
            "needs_background": "light"
          }
        }
      ]
    },
    {
      "cell_type": "code",
      "metadata": {
        "colab": {
          "base_uri": "https://localhost:8080/"
        },
        "id": "detPomOuOVO9",
        "outputId": "0935d897-c014-498c-aa9c-fe7818b5e482"
      },
      "source": [
        "from google.colab import drive\n",
        "drive.mount('/content/gdrive')"
      ],
      "execution_count": 18,
      "outputs": [
        {
          "output_type": "stream",
          "text": [
            "Mounted at /content/gdrive\n"
          ],
          "name": "stdout"
        }
      ]
    },
    {
      "cell_type": "code",
      "metadata": {
        "id": "tjU3rl9iOXSx"
      },
      "source": [
        "! mv -f bert_mlm_imdb.h5 gdrive/MyDrive/"
      ],
      "execution_count": 21,
      "outputs": []
    },
    {
      "cell_type": "markdown",
      "metadata": {
        "id": "L4iiy_XnNbL8"
      },
      "source": [
        "# Sentiment analysis using BERT"
      ]
    },
    {
      "cell_type": "code",
      "metadata": {
        "colab": {
          "base_uri": "https://localhost:8080/"
        },
        "id": "bdcMCe1W5KTR",
        "outputId": "18d48faf-4498-4d43-f22f-c83fff38a414"
      },
      "source": [
        "# Load pretrained bert model\n",
        "mlm_model = keras.models.load_model(\n",
        "    \"bert_mlm_imdb.h5\", custom_objects={\"MaskedLanguageModel\": MaskedLanguageModel}\n",
        ")\n",
        "pretrained_bert_model = tf.keras.Model(\n",
        "    mlm_model.input, mlm_model.get_layer(\"encoder_0/ffn_layernormalization\").output\n",
        ")\n",
        "\n",
        "# Freeze it\n",
        "pretrained_bert_model.trainable = False\n",
        "\n",
        "def create_classifier_bert_model():\n",
        "    inputs = layers.Input((config.MAX_LEN,), dtype=tf.int64)\n",
        "    sequence_output = pretrained_bert_model(inputs)\n",
        "    pooled_output = layers.GlobalMaxPooling1D()(sequence_output)\n",
        "    hidden_layer = layers.Dense(64, activation=\"relu\")(pooled_output)\n",
        "    outputs = layers.Dense(1, activation=\"sigmoid\")(hidden_layer)\n",
        "    classifer_model = keras.Model(inputs, outputs, name=\"classification\")\n",
        "    optimizer = keras.optimizers.Adam()\n",
        "    classifer_model.compile(\n",
        "        optimizer=optimizer, loss=\"binary_crossentropy\", metrics=[\"accuracy\"]\n",
        "    )\n",
        "    return classifer_model\n",
        "\n",
        "classifer_model = create_classifier_bert_model()\n",
        "classifer_model.summary()\n",
        "\n",
        "# Train the classifier with frozen BERT stage\n",
        "classifer_model.fit(\n",
        "    train_classifier_ds,\n",
        "    epochs=5,\n",
        "    validation_data=test_classifier_ds,\n",
        ")\n",
        "\n",
        "# Unfreeze the BERT model for fine-tuning\n",
        "pretrained_bert_model.trainable = True\n",
        "optimizer = keras.optimizers.Adam()\n",
        "classifer_model.compile(\n",
        "    optimizer=optimizer, loss=\"binary_crossentropy\", metrics=[\"accuracy\"]\n",
        ")\n",
        "\n",
        "history = classifer_model.fit(\n",
        "                              train_classifier_ds,\n",
        "                              epochs=5,\n",
        "                              validation_data=test_classifier_ds,\n",
        "                            )"
      ],
      "execution_count": null,
      "outputs": [
        {
          "output_type": "stream",
          "text": [
            "Model: \"classification\"\n",
            "_________________________________________________________________\n",
            "Layer (type)                 Output Shape              Param #   \n",
            "=================================================================\n",
            "input_5 (InputLayer)         [(None, 256)]             0         \n",
            "_________________________________________________________________\n",
            "model_1 (Functional)         (None, 256, 128)          3939584   \n",
            "_________________________________________________________________\n",
            "global_max_pooling1d_1 (Glob (None, 128)               0         \n",
            "_________________________________________________________________\n",
            "dense_4 (Dense)              (None, 64)                8256      \n",
            "_________________________________________________________________\n",
            "dense_5 (Dense)              (None, 1)                 65        \n",
            "=================================================================\n",
            "Total params: 3,947,905\n",
            "Trainable params: 8,321\n",
            "Non-trainable params: 3,939,584\n",
            "_________________________________________________________________\n",
            "Epoch 1/5\n",
            "782/782 [==============================] - 13s 16ms/step - loss: 0.7265 - accuracy: 0.5684 - val_loss: 0.6497 - val_accuracy: 0.6217\n",
            "Epoch 2/5\n",
            "782/782 [==============================] - 12s 15ms/step - loss: 0.6643 - accuracy: 0.6130 - val_loss: 0.6547 - val_accuracy: 0.6146\n",
            "Epoch 3/5\n",
            "782/782 [==============================] - 12s 15ms/step - loss: 0.6498 - accuracy: 0.6263 - val_loss: 0.6892 - val_accuracy: 0.5847\n",
            "Epoch 4/5\n",
            "782/782 [==============================] - 12s 15ms/step - loss: 0.6417 - accuracy: 0.6343 - val_loss: 0.6821 - val_accuracy: 0.5892\n",
            "Epoch 5/5\n",
            "782/782 [==============================] - 12s 15ms/step - loss: 0.6327 - accuracy: 0.6430 - val_loss: 0.7514 - val_accuracy: 0.5487\n",
            "Epoch 1/5\n",
            "782/782 [==============================] - 49s 61ms/step - loss: 0.4444 - accuracy: 0.7878 - val_loss: 0.3631 - val_accuracy: 0.8370\n",
            "Epoch 2/5\n",
            "782/782 [==============================] - 47s 61ms/step - loss: 0.2750 - accuracy: 0.8860 - val_loss: 0.3629 - val_accuracy: 0.8486\n",
            "Epoch 3/5\n",
            "782/782 [==============================] - 47s 60ms/step - loss: 0.1329 - accuracy: 0.9496 - val_loss: 0.4829 - val_accuracy: 0.8371\n",
            "Epoch 4/5\n",
            "782/782 [==============================] - 48s 61ms/step - loss: 0.0529 - accuracy: 0.9826 - val_loss: 0.5759 - val_accuracy: 0.8436\n",
            "Epoch 5/5\n",
            "782/782 [==============================] - 47s 60ms/step - loss: 0.0340 - accuracy: 0.9882 - val_loss: 0.6573 - val_accuracy: 0.8435\n"
          ],
          "name": "stdout"
        }
      ]
    },
    {
      "cell_type": "code",
      "metadata": {
        "colab": {
          "base_uri": "https://localhost:8080/",
          "height": 512
        },
        "id": "a81grcZM5ZbM",
        "outputId": "b96dc979-eb4a-42ad-da52-b55d0780e2f0"
      },
      "source": [
        "import matplotlib.pyplot as plt\n",
        "\n",
        "train_loss = history.history['loss']\n",
        "train_accuracy = history.history['accuracy']\n",
        "val_loss = history.history['val_loss']\n",
        "val_accuracy = history.history['val_accuracy']\n",
        "\n",
        "epochs = range(len(train_loss))\n",
        "plt.plot(epochs, train_loss, label=\"train\")\n",
        "plt.plot(epochs, val_loss, label=\"validation\")\n",
        "plt.legend()\n",
        "plt.show()\n",
        "\n",
        "epochs = range(len(train_loss))\n",
        "plt.plot(epochs, train_accuracy, label=\"train\")\n",
        "plt.plot(epochs, val_accuracy, label=\"validation\")\n",
        "plt.legend()\n",
        "plt.show()"
      ],
      "execution_count": null,
      "outputs": [
        {
          "output_type": "display_data",
          "data": {
            "image/png": "[encoded data removed]",
            "text/plain": [
              "<Figure size 432x288 with 1 Axes>"
            ]
          },
          "metadata": {
            "tags": [],
            "needs_background": "light"
          }
        },
        {
          "output_type": "display_data",
          "data": {
            "image/png": "[encoded data removed]",
            "text/plain": [
              "<Figure size 432x288 with 1 Axes>"
            ]
          },
          "metadata": {
            "tags": [],
            "needs_background": "light"
          }
        }
      ]
    },
    {
      "cell_type": "code",
      "metadata": {
        "colab": {
          "base_uri": "https://localhost:8080/"
        },
        "id": "ngS--Qcq5W4R",
        "outputId": "257e2fda-5285-4ff5-e2ca-33f523fd5ded"
      },
      "source": [
        "def get_end_to_end(model):\n",
        "    inputs_string = keras.Input(shape=(1,), dtype=\"string\")\n",
        "    indices = vectorize_layer(inputs_string)\n",
        "    outputs = model(indices)\n",
        "    end_to_end_model = keras.Model(inputs_string, outputs, name=\"end_to_end_model\")\n",
        "    optimizer = keras.optimizers.Adam(learning_rate=config.LR)\n",
        "    end_to_end_model.compile(\n",
        "        optimizer=optimizer, loss=\"binary_crossentropy\", metrics=[\"accuracy\"]\n",
        "    )\n",
        "    return end_to_end_model\n",
        "\n",
        "\n",
        "end_to_end_classification_model = get_end_to_end(classifer_model)\n",
        "end_to_end_classification_model.evaluate(test_raw_classifier_ds)"
      ],
      "execution_count": null,
      "outputs": [
        {
          "output_type": "stream",
          "text": [
            "782/782 [==============================] - 9s 11ms/step - loss: 0.6788 - accuracy: 0.8397\n"
          ],
          "name": "stdout"
        },
        {
          "output_type": "execute_result",
          "data": {
            "text/plain": [
              "[0.6787503361701965, 0.839680016040802]"
            ]
          },
          "metadata": {
            "tags": []
          },
          "execution_count": 13
        }
      ]
    },
    {
      "cell_type": "code",
      "metadata": {
        "id": "H2U-vUKn8vKX"
      },
      "source": [
        ""
      ],
      "execution_count": null,
      "outputs": []
    }
  ]
}